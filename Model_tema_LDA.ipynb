{
 "cells": [
  {
   "cell_type": "markdown",
   "metadata": {},
   "source": [
    "# MODELADO DE TEMAS\n",
    "### Latent Dirichlet Allocation (LDA)"
   ]
  },
  {
   "cell_type": "code",
   "execution_count": 1,
   "metadata": {},
   "outputs": [],
   "source": [
    "import pandas as pd\n",
    "from sklearn.feature_extraction.text import CountVectorizer\n",
    "from sklearn.decomposition import LatentDirichletAllocation\n"
   ]
  },
  {
   "cell_type": "code",
   "execution_count": 2,
   "metadata": {},
   "outputs": [],
   "source": [
    "df=pd.read_csv('movie_data.csv',encoding='utf-8')\n",
    "count= CountVectorizer(stop_words='english',max_df=0.1,max_features=5000)\n",
    "X=count.fit_transform(df['review'].values)\n",
    "lda=LatentDirichletAllocation(n_components=10, random_state=123,learning_method='batch')\n",
    "X_topics = lda.fit_transform(X)\n"
   ]
  },
  {
   "cell_type": "code",
   "execution_count": 3,
   "metadata": {},
   "outputs": [
    {
     "data": {
      "text/plain": [
       "(10, 5000)"
      ]
     },
     "execution_count": 3,
     "metadata": {},
     "output_type": "execute_result"
    }
   ],
   "source": [
    "lda.components_.shape\n"
   ]
  },
  {
   "cell_type": "code",
   "execution_count": 4,
   "metadata": {},
   "outputs": [
    {
     "data": {
      "text/plain": [
       "array(['00', '000', '100', ..., 'zombie', 'zombies', 'zone'], dtype=object)"
      ]
     },
     "execution_count": 4,
     "metadata": {},
     "output_type": "execute_result"
    }
   ],
   "source": [
    "n_top_w=5\n",
    "feature_name=count.get_feature_names_out()\n",
    "feature_name"
   ]
  },
  {
   "cell_type": "code",
   "execution_count": 5,
   "metadata": {},
   "outputs": [
    {
     "name": "stdout",
     "output_type": "stream",
     "text": [
      "topic 1:\n",
      "worst minutes awful script stupid\n",
      "topic 2:\n",
      "family mother father girl children\n",
      "topic 3:\n",
      "american dvd war music tv\n",
      "topic 4:\n",
      "human audience cinema art sense\n",
      "topic 5:\n",
      "police guy car dead murder\n",
      "topic 6:\n",
      "horror house blood gore sex\n",
      "topic 7:\n",
      "role performance comedy actor performances\n",
      "topic 8:\n",
      "series episode war episodes tv\n",
      "topic 9:\n",
      "book version original read effects\n",
      "topic 10:\n",
      "action guy fight guys cool\n"
     ]
    }
   ],
   "source": [
    "for topic_idx, topic in enumerate(lda.components_):\n",
    "    print(\"topic %d:\" % (topic_idx + 1))\n",
    "    print(\" \".join([feature_name[i] for i in topic.argsort()[:-n_top_w -1:-1]]))"
   ]
  },
  {
   "cell_type": "code",
   "execution_count": 6,
   "metadata": {},
   "outputs": [
    {
     "name": "stdout",
     "output_type": "stream",
     "text": [
      "\n",
      "Horror Movie #1:\n",
      "Once upon a time in a castle...... Two little girls are playing in the garden's castle. They are sisters. A blonde little girl (Kitty) and a brunette one (Evelyn). Evelyn steals Kitty's doll. Kitty pursues Evelyn. Running through long corridors, they reach the room where their grandfather, sitting o ...\n",
      "\n",
      "Horror Movie #2:\n",
      "Emilio Miraglia's first Giallo feature, The Night Evelyn Came Out of the Grave, was a great combination of Giallo and Gothic horror - and this second film is even better! We've got more of the Giallo side of the equation this time around, although Miraglia doesn't lose the Gothic horror stylings tha ...\n",
      "\n",
      "Horror Movie #3:\n",
      "House of Dracula works from the same basic premise as House of Frankenstein from the year before; namely that Universal's three most famous monsters; Dracula, Frankenstein's Monster and The Wolf Man are appearing in the movie together. Naturally, the film is rather messy therefore, but the fact that ...\n"
     ]
    }
   ],
   "source": [
    "horror=X_topics[:,5].argsort()[::-1]\n",
    "for iter_idx , movie_idx in enumerate(horror[:3]):\n",
    "    print('\\nHorror Movie #%d:' % (iter_idx+1))\n",
    "    print(df['review'][movie_idx][:300],'...')"
   ]
  }
 ],
 "metadata": {
  "kernelspec": {
   "display_name": "base",
   "language": "python",
   "name": "python3"
  },
  "language_info": {
   "codemirror_mode": {
    "name": "ipython",
    "version": 3
   },
   "file_extension": ".py",
   "mimetype": "text/x-python",
   "name": "python",
   "nbconvert_exporter": "python",
   "pygments_lexer": "ipython3",
   "version": "3.10.9"
  }
 },
 "nbformat": 4,
 "nbformat_minor": 2
}
