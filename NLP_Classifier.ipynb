{
 "cells": [
  {
   "cell_type": "code",
   "execution_count": 21,
   "metadata": {},
   "outputs": [],
   "source": [
    "import re\n",
    "import pandas as pd\n",
    "from sklearn.feature_extraction.text import CountVectorizer, TfidfTransformer\n",
    "import numpy as np"
   ]
  },
  {
   "cell_type": "code",
   "execution_count": 22,
   "metadata": {},
   "outputs": [],
   "source": [
    "df=pd.read_csv('movie_data.csv')"
   ]
  },
  {
   "cell_type": "code",
   "execution_count": 23,
   "metadata": {},
   "outputs": [
    {
     "data": {
      "text/html": [
       "<div>\n",
       "<style scoped>\n",
       "    .dataframe tbody tr th:only-of-type {\n",
       "        vertical-align: middle;\n",
       "    }\n",
       "\n",
       "    .dataframe tbody tr th {\n",
       "        vertical-align: top;\n",
       "    }\n",
       "\n",
       "    .dataframe thead th {\n",
       "        text-align: right;\n",
       "    }\n",
       "</style>\n",
       "<table border=\"1\" class=\"dataframe\">\n",
       "  <thead>\n",
       "    <tr style=\"text-align: right;\">\n",
       "      <th></th>\n",
       "      <th>review</th>\n",
       "      <th>sentiment</th>\n",
       "    </tr>\n",
       "  </thead>\n",
       "  <tbody>\n",
       "    <tr>\n",
       "      <th>0</th>\n",
       "      <td>The infamous Ed Wood \"classic\" Plan 9 From Out...</td>\n",
       "      <td>0</td>\n",
       "    </tr>\n",
       "    <tr>\n",
       "      <th>1</th>\n",
       "      <td>Sports movies have never been my thing, but a ...</td>\n",
       "      <td>1</td>\n",
       "    </tr>\n",
       "    <tr>\n",
       "      <th>2</th>\n",
       "      <td>this movies is really special ! it's about a y...</td>\n",
       "      <td>1</td>\n",
       "    </tr>\n",
       "    <tr>\n",
       "      <th>3</th>\n",
       "      <td>Well, after seeing \"Beginning\" I thought why t...</td>\n",
       "      <td>0</td>\n",
       "    </tr>\n",
       "    <tr>\n",
       "      <th>4</th>\n",
       "      <td>Ben (a fine Charles Bateman), his young daught...</td>\n",
       "      <td>1</td>\n",
       "    </tr>\n",
       "  </tbody>\n",
       "</table>\n",
       "</div>"
      ],
      "text/plain": [
       "                                              review  sentiment\n",
       "0  The infamous Ed Wood \"classic\" Plan 9 From Out...          0\n",
       "1  Sports movies have never been my thing, but a ...          1\n",
       "2  this movies is really special ! it's about a y...          1\n",
       "3  Well, after seeing \"Beginning\" I thought why t...          0\n",
       "4  Ben (a fine Charles Bateman), his young daught...          1"
      ]
     },
     "execution_count": 23,
     "metadata": {},
     "output_type": "execute_result"
    }
   ],
   "source": [
    "df.head(5)"
   ]
  },
  {
   "cell_type": "code",
   "execution_count": 24,
   "metadata": {},
   "outputs": [],
   "source": [
    "def preprocessor(text):\n",
    "    text = re.sub('<[^>]*>','',text)\n",
    "    emo = re.findall('(?::|;|=)(?:-)?(?:\\)|\\(|D|P)',text)\n",
    "    text = (re.sub('[\\W]+','',text.lower())+' '.join(emo).replace('-',''))\n",
    "    return text"
   ]
  },
  {
   "cell_type": "code",
   "execution_count": 25,
   "metadata": {},
   "outputs": [],
   "source": [
    "df['review_pro']=df['review'].apply(preprocessor)"
   ]
  },
  {
   "cell_type": "code",
   "execution_count": 26,
   "metadata": {},
   "outputs": [
    {
     "data": {
      "text/html": [
       "<div>\n",
       "<style scoped>\n",
       "    .dataframe tbody tr th:only-of-type {\n",
       "        vertical-align: middle;\n",
       "    }\n",
       "\n",
       "    .dataframe tbody tr th {\n",
       "        vertical-align: top;\n",
       "    }\n",
       "\n",
       "    .dataframe thead th {\n",
       "        text-align: right;\n",
       "    }\n",
       "</style>\n",
       "<table border=\"1\" class=\"dataframe\">\n",
       "  <thead>\n",
       "    <tr style=\"text-align: right;\">\n",
       "      <th></th>\n",
       "      <th>review</th>\n",
       "      <th>sentiment</th>\n",
       "      <th>review_pro</th>\n",
       "    </tr>\n",
       "  </thead>\n",
       "  <tbody>\n",
       "    <tr>\n",
       "      <th>0</th>\n",
       "      <td>The infamous Ed Wood \"classic\" Plan 9 From Out...</td>\n",
       "      <td>0</td>\n",
       "      <td>theinfamousedwoodclassicplan9fromouterspacefea...</td>\n",
       "    </tr>\n",
       "    <tr>\n",
       "      <th>1</th>\n",
       "      <td>Sports movies have never been my thing, but a ...</td>\n",
       "      <td>1</td>\n",
       "      <td>sportsmovieshaveneverbeenmythingbutasmallhandf...</td>\n",
       "    </tr>\n",
       "    <tr>\n",
       "      <th>2</th>\n",
       "      <td>this movies is really special ! it's about a y...</td>\n",
       "      <td>1</td>\n",
       "      <td>thismoviesisreallyspecialitsaboutayoungfrenchw...</td>\n",
       "    </tr>\n",
       "    <tr>\n",
       "      <th>3</th>\n",
       "      <td>Well, after seeing \"Beginning\" I thought why t...</td>\n",
       "      <td>0</td>\n",
       "      <td>wellafterseeingbeginningithoughtwhythehellthey...</td>\n",
       "    </tr>\n",
       "    <tr>\n",
       "      <th>4</th>\n",
       "      <td>Ben (a fine Charles Bateman), his young daught...</td>\n",
       "      <td>1</td>\n",
       "      <td>benafinecharlesbatemanhisyoungdaughterktacuteg...</td>\n",
       "    </tr>\n",
       "  </tbody>\n",
       "</table>\n",
       "</div>"
      ],
      "text/plain": [
       "                                              review  sentiment  \\\n",
       "0  The infamous Ed Wood \"classic\" Plan 9 From Out...          0   \n",
       "1  Sports movies have never been my thing, but a ...          1   \n",
       "2  this movies is really special ! it's about a y...          1   \n",
       "3  Well, after seeing \"Beginning\" I thought why t...          0   \n",
       "4  Ben (a fine Charles Bateman), his young daught...          1   \n",
       "\n",
       "                                          review_pro  \n",
       "0  theinfamousedwoodclassicplan9fromouterspacefea...  \n",
       "1  sportsmovieshaveneverbeenmythingbutasmallhandf...  \n",
       "2  thismoviesisreallyspecialitsaboutayoungfrenchw...  \n",
       "3  wellafterseeingbeginningithoughtwhythehellthey...  \n",
       "4  benafinecharlesbatemanhisyoungdaughterktacuteg...  "
      ]
     },
     "execution_count": 26,
     "metadata": {},
     "output_type": "execute_result"
    }
   ],
   "source": [
    "df.head(5)"
   ]
  },
  {
   "cell_type": "code",
   "execution_count": 27,
   "metadata": {},
   "outputs": [],
   "source": [
    "#count=CountVectorizer()\n",
    "#bag =count.fit_tranform(doc)\n",
    "#print(count.vocabulary_)\n",
    "#print(bag.toarray())"
   ]
  },
  {
   "cell_type": "code",
   "execution_count": 28,
   "metadata": {},
   "outputs": [
    {
     "name": "stderr",
     "output_type": "stream",
     "text": [
      "[nltk_data] Downloading package stopwords to\n",
      "[nltk_data]     C:\\Users\\Usuario\\AppData\\Roaming\\nltk_data...\n",
      "[nltk_data]   Package stopwords is already up-to-date!\n"
     ]
    },
    {
     "data": {
      "text/plain": [
       "True"
      ]
     },
     "execution_count": 28,
     "metadata": {},
     "output_type": "execute_result"
    }
   ],
   "source": [
    "#Tfid transformer\n",
    "#tfid = TfidfTransformer(use_idf=True, norm='12',smooth_idf=True)\n",
    "#np.set_printoptions(precision=2)\n",
    "#print(TfidfTransformer.transform(count.fit_transform(doc)).toarray())\n",
    "import nltk\n",
    "nltk.download('stopwords')"
   ]
  },
  {
   "cell_type": "code",
   "execution_count": 29,
   "metadata": {},
   "outputs": [],
   "source": [
    "\n",
    "from nltk.stem.porter import PorterStemmer\n",
    "from nltk.corpus import stopwords\n",
    "#nltk.download('stopwords')\n",
    "#tokenizar usando la raiz de la palabra\n",
    "\n",
    "def tokenizer(text:str):\n",
    "    return text.split()\n",
    "\n",
    "porter = PorterStemmer()\n",
    "def tokenizer_porte(text: str):\n",
    "    return [porter.stem(word) for word in text.split()]\n",
    "\n",
    "stop = stopwords.words('english')\n",
    "#[w for w in tokenizer(doc) if w not in stop]"
   ]
  },
  {
   "cell_type": "code",
   "execution_count": 30,
   "metadata": {},
   "outputs": [],
   "source": [
    "X_train = df.loc[:25000, 'review'].values\n",
    "X_test = df.loc[25000:, 'review'].values\n",
    "y_train = df.loc[:25000,'sentiment'].values\n",
    "y_test = df.loc[25000:, 'sentiment'].values"
   ]
  },
  {
   "cell_type": "code",
   "execution_count": 31,
   "metadata": {},
   "outputs": [
    {
     "data": {
      "text/plain": [
       "0"
      ]
     },
     "execution_count": 31,
     "metadata": {},
     "output_type": "execute_result"
    }
   ],
   "source": [
    "pd.Series(X_test).isnull().sum()\n"
   ]
  },
  {
   "cell_type": "code",
   "execution_count": 32,
   "metadata": {},
   "outputs": [],
   "source": [
    "from sklearn.model_selection import GridSearchCV\n",
    "from sklearn.pipeline import Pipeline\n",
    "from sklearn.linear_model import LogisticRegression\n",
    "from sklearn.feature_extraction.text import TfidfVectorizer"
   ]
  },
  {
   "cell_type": "code",
   "execution_count": 34,
   "metadata": {},
   "outputs": [
    {
     "name": "stdout",
     "output_type": "stream",
     "text": [
      "Fitting 5 folds for each of 24 candidates, totalling 120 fits\n"
     ]
    },
    {
     "name": "stderr",
     "output_type": "stream",
     "text": [
      "c:\\Users\\Usuario\\anaconda3\\Lib\\site-packages\\sklearn\\feature_extraction\\text.py:525: UserWarning: The parameter 'token_pattern' will not be used since 'tokenizer' is not None'\n",
      "  warnings.warn(\n"
     ]
    },
    {
     "name": "stdout",
     "output_type": "stream",
     "text": [
      "Best Params {'clf__C': 100.0, 'clf__penalty': 'l2', 'vect__ngram_range': (1, 1), 'vect__stop_words': None, 'vect__tokenizer': <function tokenizer at 0x0000029323D074C0>}\n"
     ]
    }
   ],
   "source": [
    "tfid = TfidfVectorizer(strip_accents=None, lowercase=False, preprocessor=None)\n",
    "param_grid = [{'vect__ngram_range':[(1,1)],\n",
    "              'vect__stop_words': [stop,None],\n",
    "              'vect__tokenizer' : [tokenizer, tokenizer_porte],\n",
    "              'clf__penalty' : ['l2'],\n",
    "              'clf__C' : [1.0,10.0,100.0]},\n",
    "              {'vect__ngram_range': [(1,1)],\n",
    "               'vect__stop_words': [stop,None],\n",
    "               'vect__tokenizer' : [tokenizer,tokenizer_porte],\n",
    "               'vect__use_idf': [False],\n",
    "               'vect__norm' : [None],\n",
    "               'clf__penalty' : ['l2'],\n",
    "               'clf__C' : [1.0,10.0,100.0]\n",
    "               }\n",
    "              ]\n",
    "\n",
    "le_tfidf =Pipeline([('vect',tfid),('clf',LogisticRegression(random_state=0,max_iter=500))])\n",
    "\n",
    "gs_lr_tfidf = GridSearchCV(le_tfidf, param_grid,scoring='accuracy',\n",
    "                           cv=5,verbose=1,n_jobs=4)\n",
    "\n",
    "gs_lr_tfidf.fit(X_train, y_train)\n",
    "print('Best Params',gs_lr_tfidf.best_params_)"
   ]
  }
 ],
 "metadata": {
  "kernelspec": {
   "display_name": "base",
   "language": "python",
   "name": "python3"
  },
  "language_info": {
   "codemirror_mode": {
    "name": "ipython",
    "version": 3
   },
   "file_extension": ".py",
   "mimetype": "text/x-python",
   "name": "python",
   "nbconvert_exporter": "python",
   "pygments_lexer": "ipython3",
   "version": "3.11.5"
  }
 },
 "nbformat": 4,
 "nbformat_minor": 2
}
